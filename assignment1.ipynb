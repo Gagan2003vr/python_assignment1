{
  "nbformat": 4,
  "nbformat_minor": 0,
  "metadata": {
    "colab": {
      "provenance": []
    },
    "kernelspec": {
      "name": "python3",
      "display_name": "Python 3"
    },
    "language_info": {
      "name": "python"
    }
  },
  "cells": [
    {
      "cell_type": "markdown",
      "source": [
        "variables : variables are the container it is used to store the values in it like data(literals)"
      ],
      "metadata": {
        "id": "HkrFdO9dv9MN"
      }
    },
    {
      "cell_type": "code",
      "source": [
        "#a)\n",
        "name=\"gagan\"\n",
        "num1=2\n",
        "num2=3.445\n",
        "print(\"hello\",name)"
      ],
      "metadata": {
        "colab": {
          "base_uri": "https://localhost:8080/"
        },
        "id": "vFNN2F3mzw1V",
        "outputId": "7f32f75c-1574-408f-ab26-d53450a2f3f8"
      },
      "execution_count": 3,
      "outputs": [
        {
          "output_type": "stream",
          "name": "stdout",
          "text": [
            "hello gagan\n"
          ]
        }
      ]
    },
    {
      "cell_type": "markdown",
      "source": [
        "b)diff betweeen a variables and the constant?can we have constant in python\n",
        "variables : variables are used to store the value\n",
        "-in python we can assign the value by using the assinment operator(=)\n",
        "contants: constant is the value that can not be changed once it assiged\n",
        "-constant are written in uppercase letters and the word are separated by the underscore(-)"
      ],
      "metadata": {
        "id": "O6RPEP6u0Uzt"
      }
    },
    {
      "cell_type": "markdown",
      "source": [
        "3) working with different data types\n",
        "->data type is a classification of data that deytermines the type of value can variable holds"
      ],
      "metadata": {
        "id": "f_DH6VGm12OC"
      }
    },
    {
      "cell_type": "markdown",
      "source": [
        "a)creat the variables of the following data tyapes\n",
        "integer-->x=12\n",
        "float-->z=1.23\n",
        "string-->str_1=\"gagan\"\n",
        "boolean-->bool_1=True"
      ],
      "metadata": {
        "id": "ewKuO8Qs2mPL"
      }
    },
    {
      "cell_type": "code",
      "source": [
        "#b)write a python script to display the type of each variables you created\n",
        "int_1=10\n",
        "int_2=10\n",
        "result=int_1+int_2\n",
        "print(result)"
      ],
      "metadata": {
        "colab": {
          "base_uri": "https://localhost:8080/"
        },
        "id": "mOYrWx1Y0KOk",
        "outputId": "b92ac0fc-081a-4de4-fc5f-b19c36e19916"
      },
      "execution_count": 4,
      "outputs": [
        {
          "output_type": "stream",
          "name": "stdout",
          "text": [
            "20\n"
          ]
        }
      ]
    },
    {
      "cell_type": "code",
      "source": [
        "num1=1.2\n",
        "num2=2.3\n",
        "result=num1+num2\n",
        "print(result)"
      ],
      "metadata": {
        "colab": {
          "base_uri": "https://localhost:8080/"
        },
        "id": "erA7qGUG3aIW",
        "outputId": "bc776ee0-67c3-496a-a811-090242f817de"
      },
      "execution_count": 5,
      "outputs": [
        {
          "output_type": "stream",
          "name": "stdout",
          "text": [
            "3.5\n"
          ]
        }
      ]
    },
    {
      "cell_type": "code",
      "source": [
        "name=\"gagan\"\n",
        "print(\"ur name is\", name)"
      ],
      "metadata": {
        "colab": {
          "base_uri": "https://localhost:8080/"
        },
        "id": "FE-Ie3jW3jxN",
        "outputId": "c18ab0ad-73c6-4f53-b94b-dc1dffd7c08a"
      },
      "execution_count": 6,
      "outputs": [
        {
          "output_type": "stream",
          "name": "stdout",
          "text": [
            "ur name is gagan\n"
          ]
        }
      ]
    },
    {
      "cell_type": "code",
      "source": [
        "bool_1=True\n",
        "bool_2=True\n",
        "result=bool_1&bool_2\n",
        "print(result)"
      ],
      "metadata": {
        "colab": {
          "base_uri": "https://localhost:8080/"
        },
        "id": "cWsyl4Rd3tO6",
        "outputId": "6ce524da-7023-4783-c5f6-c0dd4a4552eb"
      },
      "execution_count": 8,
      "outputs": [
        {
          "output_type": "stream",
          "name": "stdout",
          "text": [
            "True\n"
          ]
        }
      ]
    },
    {
      "cell_type": "markdown",
      "source": [
        "3) arithematic operators"
      ],
      "metadata": {
        "id": "FpMGMBjS4Guf"
      }
    },
    {
      "cell_type": "code",
      "source": [
        "#1) addtion(+)\n",
        "num1=10\n",
        "num2=20\n",
        "result=num1+num2\n",
        "print(result)"
      ],
      "metadata": {
        "colab": {
          "base_uri": "https://localhost:8080/"
        },
        "id": "IhgsxC30392C",
        "outputId": "48f4c4ac-d98d-4d9f-e481-740e69cf417e"
      },
      "execution_count": 9,
      "outputs": [
        {
          "output_type": "stream",
          "name": "stdout",
          "text": [
            "30\n"
          ]
        }
      ]
    },
    {
      "cell_type": "code",
      "source": [
        "#2) substraction(-)\n",
        "num1=20\n",
        "num2=60\n",
        "result=num1-num2\n",
        "print(result)"
      ],
      "metadata": {
        "colab": {
          "base_uri": "https://localhost:8080/"
        },
        "id": "oH4fxA3C4ctb",
        "outputId": "9a7910c0-8bc3-4e68-b11e-042e61ceac82"
      },
      "execution_count": 11,
      "outputs": [
        {
          "output_type": "stream",
          "name": "stdout",
          "text": [
            "-40\n"
          ]
        }
      ]
    },
    {
      "cell_type": "code",
      "source": [
        "#3) multiplication(*)\n",
        "a=5\n",
        "b=5\n",
        "z=a*b\n",
        "print(z)"
      ],
      "metadata": {
        "colab": {
          "base_uri": "https://localhost:8080/"
        },
        "id": "0DUNFchF4tbN",
        "outputId": "328d124c-1150-4fb0-fe60-bca816313941"
      },
      "execution_count": 12,
      "outputs": [
        {
          "output_type": "stream",
          "name": "stdout",
          "text": [
            "25\n"
          ]
        }
      ]
    },
    {
      "cell_type": "code",
      "source": [
        "#4)division(/) -->it gives the qutiont value\n",
        "a=10\n",
        "b=2\n",
        "z=a/b\n",
        "print(z)"
      ],
      "metadata": {
        "colab": {
          "base_uri": "https://localhost:8080/"
        },
        "id": "0vFaNdBa49Zc",
        "outputId": "dea6921f-85ee-4f55-e44f-a1b41112d88e"
      },
      "execution_count": 13,
      "outputs": [
        {
          "output_type": "stream",
          "name": "stdout",
          "text": [
            "5.0\n"
          ]
        }
      ]
    },
    {
      "cell_type": "code",
      "source": [
        "#5) modulus(%)-->it give te value of remainder\n",
        "a=10\n",
        "b=2\n",
        "z=a%b\n",
        "print(z)"
      ],
      "metadata": {
        "colab": {
          "base_uri": "https://localhost:8080/"
        },
        "id": "ipXHOyAS5LiQ",
        "outputId": "5e619bad-c16d-492f-e251-8055d69ec40e"
      },
      "execution_count": 14,
      "outputs": [
        {
          "output_type": "stream",
          "name": "stdout",
          "text": [
            "0\n"
          ]
        }
      ]
    },
    {
      "cell_type": "code",
      "source": [
        "#6)exponantion(**)--> it is represented through the powers of the number\n",
        "a=2\n",
        "b=3\n",
        "z=a**b\n",
        "print(z)\n"
      ],
      "metadata": {
        "colab": {
          "base_uri": "https://localhost:8080/"
        },
        "id": "cPbpQLvB5iLS",
        "outputId": "096b0ca6-98da-4655-9152-2a96ace9eb0b"
      },
      "execution_count": 15,
      "outputs": [
        {
          "output_type": "stream",
          "name": "stdout",
          "text": [
            "8\n"
          ]
        }
      ]
    },
    {
      "cell_type": "code",
      "source": [
        "#7) floar division\n",
        "a=3\n",
        "b=2\n",
        "z=a//b\n",
        "print(z)"
      ],
      "metadata": {
        "colab": {
          "base_uri": "https://localhost:8080/"
        },
        "id": "6AAfam-X50SU",
        "outputId": "c26292f8-805f-41a8-b763-1c6d853e735a"
      },
      "execution_count": 16,
      "outputs": [
        {
          "output_type": "stream",
          "name": "stdout",
          "text": [
            "1\n"
          ]
        }
      ]
    },
    {
      "cell_type": "markdown",
      "source": [
        "5) typecasting--> it is converting the one data type into another data type\n",
        "     types in typecasting\n",
        "     1--> implicit typecasting: it perform the operation of converting the data type frm one to another automatically\n",
        "     2--> explicit typecasting:it perform the opeartion by manually"
      ],
      "metadata": {
        "id": "-DWmg5ss6Dme"
      }
    },
    {
      "cell_type": "code",
      "source": [
        "#1) implicit type casting: ex:- coverting frm int to float\n",
        "num1=10\n",
        "num2=3\n",
        "result=num1/num2\n",
        "print(result)"
      ],
      "metadata": {
        "colab": {
          "base_uri": "https://localhost:8080/"
        },
        "id": "wjvYwNXm5_Yn",
        "outputId": "30f3983d-17c1-4b72-a921-b7418c4dbae7"
      },
      "execution_count": 17,
      "outputs": [
        {
          "output_type": "stream",
          "name": "stdout",
          "text": [
            "3.3333333333333335\n"
          ]
        }
      ]
    },
    {
      "cell_type": "code",
      "source": [
        "#2) explicit typecasting: ex:- converting str to int\n",
        "num1=\"3\"\n",
        "num2=6\n",
        "int(num1)+num2"
      ],
      "metadata": {
        "colab": {
          "base_uri": "https://localhost:8080/"
        },
        "id": "Yq7LPGkE7NlQ",
        "outputId": "07a5228b-024b-4b22-fd28-2e552f91b294"
      },
      "execution_count": 18,
      "outputs": [
        {
          "output_type": "execute_result",
          "data": {
            "text/plain": [
              "9"
            ]
          },
          "metadata": {},
          "execution_count": 18
        }
      ]
    },
    {
      "cell_type": "code",
      "source": [
        "#3) converting fron string to float\n",
        "num1=\"2.1\"\n",
        "float(num1)"
      ],
      "metadata": {
        "colab": {
          "base_uri": "https://localhost:8080/"
        },
        "id": "-MGg6KSu7kU6",
        "outputId": "11f3522d-7b0c-4571-d1cf-7a2e5168fcda"
      },
      "execution_count": 19,
      "outputs": [
        {
          "output_type": "execute_result",
          "data": {
            "text/plain": [
              "2.1"
            ]
          },
          "metadata": {},
          "execution_count": 19
        }
      ]
    },
    {
      "cell_type": "markdown",
      "source": [
        "5b) write a python program to calculate the lenghth and width of the rectangle by using the variables \"length\", and \"width\" the values 5 and 10"
      ],
      "metadata": {
        "id": "szWCICa08gRD"
      }
    },
    {
      "cell_type": "code",
      "source": [
        "length=5\n",
        "width=10\n",
        "area=length*width\n",
        "print(area)"
      ],
      "metadata": {
        "colab": {
          "base_uri": "https://localhost:8080/"
        },
        "id": "CWIEiLsi8QWG",
        "outputId": "de597df7-0aac-41b6-af86-1a4ee7386a14"
      },
      "execution_count": 20,
      "outputs": [
        {
          "output_type": "stream",
          "name": "stdout",
          "text": [
            "50\n"
          ]
        }
      ]
    },
    {
      "cell_type": "markdown",
      "source": [
        "a)comparision and logical operator\n",
        "1-->equal to(==): it used to compare the value is equal or not\n",
        "2-->not equal to(!=):it used to check the value is not equal condition\n",
        "3-->greater than(>): it check the value is greater than condition\n",
        "4-->lees than(<): it check the value is less than condition\n",
        "5-->greater than or equal to(>=):it compare the two values which is greater than or equal condition\n",
        "6-->less than or equal to(<=): it compare the two values which is the less than or equal to condition\n",
        "----- examples are codded below"
      ],
      "metadata": {
        "id": "1zkneKiB_D5A"
      }
    },
    {
      "cell_type": "code",
      "source": [
        "#1)equal(==)\n",
        "a=1\n",
        "b=1\n",
        "z=a==b\n",
        "print(z)"
      ],
      "metadata": {
        "colab": {
          "base_uri": "https://localhost:8080/"
        },
        "id": "ikTtfE-Z9U6H",
        "outputId": "8035fbbb-b3ff-43a4-f6da-6e3474ac2039"
      },
      "execution_count": 21,
      "outputs": [
        {
          "output_type": "stream",
          "name": "stdout",
          "text": [
            "True\n"
          ]
        }
      ]
    },
    {
      "cell_type": "code",
      "source": [
        "#2) not equal to(!=)\n",
        "x=a!=b\n",
        "print(x)"
      ],
      "metadata": {
        "colab": {
          "base_uri": "https://localhost:8080/"
        },
        "id": "ZbJwXEmZA8sI",
        "outputId": "7b54352e-b2ab-4055-9830-151535c45faa"
      },
      "execution_count": 22,
      "outputs": [
        {
          "output_type": "stream",
          "name": "stdout",
          "text": [
            "False\n"
          ]
        }
      ]
    },
    {
      "cell_type": "code",
      "source": [
        "#3) greater than (>)\n",
        "a=12\n",
        "b=19\n",
        "y=a>b\n",
        "print(y)"
      ],
      "metadata": {
        "colab": {
          "base_uri": "https://localhost:8080/"
        },
        "id": "qCAydLtCBFIr",
        "outputId": "8e62fa0e-6684-4432-e3b2-90ac2e3a79d6"
      },
      "execution_count": 23,
      "outputs": [
        {
          "output_type": "stream",
          "name": "stdout",
          "text": [
            "False\n"
          ]
        }
      ]
    },
    {
      "cell_type": "code",
      "source": [
        "#4) less than(<)\n",
        "x=a<b\n",
        "print(x)"
      ],
      "metadata": {
        "colab": {
          "base_uri": "https://localhost:8080/"
        },
        "id": "DP4UvHtcBVB0",
        "outputId": "df6fb827-124f-4333-e7b1-3e525a8adf48"
      },
      "execution_count": 24,
      "outputs": [
        {
          "output_type": "stream",
          "name": "stdout",
          "text": [
            "True\n"
          ]
        }
      ]
    },
    {
      "cell_type": "code",
      "source": [
        "#5)greater than or equal to(>=)\n",
        "a=10\n",
        "b=12\n",
        "z=a>=b\n",
        "print(z)"
      ],
      "metadata": {
        "colab": {
          "base_uri": "https://localhost:8080/"
        },
        "id": "UqdQNMYLBxFk",
        "outputId": "b1b66746-a412-4871-ac71-7af34d55fa9e"
      },
      "execution_count": 25,
      "outputs": [
        {
          "output_type": "stream",
          "name": "stdout",
          "text": [
            "False\n"
          ]
        }
      ]
    },
    {
      "cell_type": "code",
      "source": [
        "#6) less than or equal to(<=)\n",
        "x=a<=b\n",
        "print(x)"
      ],
      "metadata": {
        "colab": {
          "base_uri": "https://localhost:8080/"
        },
        "id": "EmeBYNOkCYUC",
        "outputId": "d7426b96-9c4a-4739-898e-acafd0cc9b94"
      },
      "execution_count": 26,
      "outputs": [
        {
          "output_type": "stream",
          "name": "stdout",
          "text": [
            "True\n"
          ]
        }
      ]
    },
    {
      "cell_type": "markdown",
      "source": [
        "4b) using logical opeartor (\"and\",\"or\",\"not\") write a python code to check the nuber is positive and even"
      ],
      "metadata": {
        "id": "GgXDwbLQCvk1"
      }
    },
    {
      "cell_type": "markdown",
      "source": [],
      "metadata": {
        "id": "_LUeFnDeCuiN"
      }
    },
    {
      "cell_type": "code",
      "source": [
        "\n",
        "\n",
        "number=int(input(\"enter the number1\"))\n",
        "if number>0  and number%2==0:\n",
        "    print(\"number is positive and even\")\n",
        "else:\n",
        "    print(\"number is negative and odd\")"
      ],
      "metadata": {
        "colab": {
          "base_uri": "https://localhost:8080/"
        },
        "id": "hwM-UxfQCjDR",
        "outputId": "9231371c-0a0c-4909-c03d-27b871ec550b"
      },
      "execution_count": 28,
      "outputs": [
        {
          "output_type": "stream",
          "name": "stdout",
          "text": [
            "enter the number157\n",
            "number is negative and odd\n"
          ]
        }
      ]
    },
    {
      "cell_type": "code",
      "source": [],
      "metadata": {
        "id": "DNLxfXnPEENy"
      },
      "execution_count": 28,
      "outputs": []
    }
  ]
}